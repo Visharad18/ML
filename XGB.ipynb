{
 "cells": [
  {
   "cell_type": "code",
   "execution_count": 1,
   "metadata": {},
   "outputs": [],
   "source": [
    "import xgboost as xgb"
   ]
  },
  {
   "cell_type": "code",
   "execution_count": 2,
   "metadata": {},
   "outputs": [],
   "source": [
    "import pandas as pd\n",
    "import numpy as np\n",
    "from sklearn import datasets\n",
    "from sklearn.model_selection import train_test_split"
   ]
  },
  {
   "cell_type": "code",
   "execution_count": 3,
   "metadata": {},
   "outputs": [
    {
     "name": "stdout",
     "output_type": "stream",
     "text": [
      "Accuracy=  1.0\n"
     ]
    },
    {
     "name": "stderr",
     "output_type": "stream",
     "text": [
      "E:\\Anaconda3\\lib\\site-packages\\sklearn\\preprocessing\\label.py:151: DeprecationWarning: The truth value of an empty array is ambiguous. Returning False, but in future this will result in an error. Use `array.size > 0` to check that an array is not empty.\n",
      "  if diff:\n"
     ]
    }
   ],
   "source": [
    "iris=datasets.load_iris()\n",
    "x,y=iris.data,iris.target\n",
    "x_tr,x_ts,y_tr,y_ts=train_test_split(x,y,test_size=0.3,random_state=42)\n",
    "xg_cl=xgb.XGBClassifier(objective='binary:logistic',n_estimators=10,seeds=123)\n",
    "xg_cl.fit(x_tr,y_tr)\n",
    "pred=xg_cl.predict(x_ts)\n",
    "accuracy=float(np.sum(pred==y_ts)/y_ts.shape[0])\n",
    "print('Accuracy= ',accuracy)"
   ]
  },
  {
   "cell_type": "code",
   "execution_count": 4,
   "metadata": {},
   "outputs": [
    {
     "data": {
      "text/html": [
       "<div>\n",
       "<style scoped>\n",
       "    .dataframe tbody tr th:only-of-type {\n",
       "        vertical-align: middle;\n",
       "    }\n",
       "\n",
       "    .dataframe tbody tr th {\n",
       "        vertical-align: top;\n",
       "    }\n",
       "\n",
       "    .dataframe thead th {\n",
       "        text-align: right;\n",
       "    }\n",
       "</style>\n",
       "<table border=\"1\" class=\"dataframe\">\n",
       "  <thead>\n",
       "    <tr style=\"text-align: right;\">\n",
       "      <th></th>\n",
       "      <th>RM</th>\n",
       "      <th>LSTAT</th>\n",
       "      <th>PTRATIO</th>\n",
       "      <th>MEDV</th>\n",
       "    </tr>\n",
       "  </thead>\n",
       "  <tbody>\n",
       "    <tr>\n",
       "      <th>0</th>\n",
       "      <td>6.575</td>\n",
       "      <td>4.98</td>\n",
       "      <td>15.3</td>\n",
       "      <td>504000.0</td>\n",
       "    </tr>\n",
       "    <tr>\n",
       "      <th>1</th>\n",
       "      <td>6.421</td>\n",
       "      <td>9.14</td>\n",
       "      <td>17.8</td>\n",
       "      <td>453600.0</td>\n",
       "    </tr>\n",
       "    <tr>\n",
       "      <th>2</th>\n",
       "      <td>7.185</td>\n",
       "      <td>4.03</td>\n",
       "      <td>17.8</td>\n",
       "      <td>728700.0</td>\n",
       "    </tr>\n",
       "    <tr>\n",
       "      <th>3</th>\n",
       "      <td>6.998</td>\n",
       "      <td>2.94</td>\n",
       "      <td>18.7</td>\n",
       "      <td>701400.0</td>\n",
       "    </tr>\n",
       "    <tr>\n",
       "      <th>4</th>\n",
       "      <td>7.147</td>\n",
       "      <td>5.33</td>\n",
       "      <td>18.7</td>\n",
       "      <td>760200.0</td>\n",
       "    </tr>\n",
       "  </tbody>\n",
       "</table>\n",
       "</div>"
      ],
      "text/plain": [
       "      RM  LSTAT  PTRATIO      MEDV\n",
       "0  6.575   4.98     15.3  504000.0\n",
       "1  6.421   9.14     17.8  453600.0\n",
       "2  7.185   4.03     17.8  728700.0\n",
       "3  6.998   2.94     18.7  701400.0\n",
       "4  7.147   5.33     18.7  760200.0"
      ]
     },
     "execution_count": 4,
     "metadata": {},
     "output_type": "execute_result"
    }
   ],
   "source": [
    "boston=pd.read_csv('./boston_housing.csv')\n",
    "boston.head()"
   ]
  },
  {
   "cell_type": "code",
   "execution_count": 7,
   "metadata": {},
   "outputs": [
    {
     "name": "stdout",
     "output_type": "stream",
     "text": [
      "RMSE: 185453.123721\n"
     ]
    }
   ],
   "source": [
    "x,y=boston.iloc[:,:-1],boston.iloc[:,-1]\n",
    "x_tr,x_ts,y_tr,y_ts=train_test_split(x,y,test_size=0.3,random_state=43)\n",
    "xg_reg=xgb.sklearn.XGBRegressor(objective='reg:linear',n_estimators=10,seed=120)\n",
    "xg_reg.fit(x_tr,y_tr)\n",
    "pred=xg_reg.predict(x_ts)\n",
    "from sklearn.metrics import mean_squared_error\n",
    "rmse=np.sqrt(mean_squared_error(y_ts,pred))\n",
    "print('RMSE: %f' %(rmse))"
   ]
  },
  {
   "cell_type": "code",
   "execution_count": 9,
   "metadata": {},
   "outputs": [
    {
     "name": "stdout",
     "output_type": "stream",
     "text": [
      "Help on function cv in module xgboost.training:\n",
      "\n",
      "cv(params, dtrain, num_boost_round=10, nfold=3, stratified=False, folds=None, metrics=(), obj=None, feval=None, maximize=False, early_stopping_rounds=None, fpreproc=None, as_pandas=True, verbose_eval=None, show_stdv=True, seed=0, callbacks=None, shuffle=True)\n",
      "    Cross-validation with given parameters.\n",
      "    \n",
      "    Parameters\n",
      "    ----------\n",
      "    params : dict\n",
      "        Booster params.\n",
      "    dtrain : DMatrix\n",
      "        Data to be trained.\n",
      "    num_boost_round : int\n",
      "        Number of boosting iterations.\n",
      "    nfold : int\n",
      "        Number of folds in CV.\n",
      "    stratified : bool\n",
      "        Perform stratified sampling.\n",
      "    folds : a KFold or StratifiedKFold instance\n",
      "        Sklearn KFolds or StratifiedKFolds.\n",
      "    metrics : string or list of strings\n",
      "        Evaluation metrics to be watched in CV.\n",
      "    obj : function\n",
      "        Custom objective function.\n",
      "    feval : function\n",
      "        Custom evaluation function.\n",
      "    maximize : bool\n",
      "        Whether to maximize feval.\n",
      "    early_stopping_rounds: int\n",
      "        Activates early stopping. CV error needs to decrease at least\n",
      "        every <early_stopping_rounds> round(s) to continue.\n",
      "        Last entry in evaluation history is the one from best iteration.\n",
      "    fpreproc : function\n",
      "        Preprocessing function that takes (dtrain, dtest, param) and returns\n",
      "        transformed versions of those.\n",
      "    as_pandas : bool, default True\n",
      "        Return pd.DataFrame when pandas is installed.\n",
      "        If False or pandas is not installed, return np.ndarray\n",
      "    verbose_eval : bool, int, or None, default None\n",
      "        Whether to display the progress. If None, progress will be displayed\n",
      "        when np.ndarray is returned. If True, progress will be displayed at\n",
      "        boosting stage. If an integer is given, progress will be displayed\n",
      "        at every given `verbose_eval` boosting stage.\n",
      "    show_stdv : bool, default True\n",
      "        Whether to display the standard deviation in progress.\n",
      "        Results are not affected, and always contains std.\n",
      "    seed : int\n",
      "        Seed used to generate the folds (passed to numpy.random.seed).\n",
      "    callbacks : list of callback functions\n",
      "        List of callback functions that are applied at end of each iteration.\n",
      "        It is possible to use predefined callbacks by using xgb.callback module.\n",
      "        Example: [xgb.callback.reset_learning_rate(custom_rates)]\n",
      "     shuffle : bool\n",
      "        Shuffle data before creating folds.\n",
      "    \n",
      "    Returns\n",
      "    -------\n",
      "    evaluation history : list(string)\n",
      "\n"
     ]
    }
   ],
   "source": [
    "help(xgb.cv)"
   ]
  },
  {
   "cell_type": "code",
   "execution_count": null,
   "metadata": {},
   "outputs": [],
   "source": []
  }
 ],
 "metadata": {
  "kernelspec": {
   "display_name": "Python 3",
   "language": "python",
   "name": "python3"
  },
  "language_info": {
   "codemirror_mode": {
    "name": "ipython",
    "version": 3
   },
   "file_extension": ".py",
   "mimetype": "text/x-python",
   "name": "python",
   "nbconvert_exporter": "python",
   "pygments_lexer": "ipython3",
   "version": "3.5.5"
  },
  "widgets": {
   "state": {},
   "version": "1.1.2"
  }
 },
 "nbformat": 4,
 "nbformat_minor": 2
}
